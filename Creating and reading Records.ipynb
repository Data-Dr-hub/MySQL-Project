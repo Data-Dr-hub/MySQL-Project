{
 "cells": [
  {
   "cell_type": "markdown",
   "metadata": {},
   "source": [
    "## Creating and reading records into Little_Lemons Mysql Database Using Python"
   ]
  },
  {
   "cell_type": "markdown",
   "metadata": {},
   "source": [
    "## Scenario \n",
    "\n",
    "Little Lemon, an imaginary restaurant. In the [databaseClients notebook](databaseClients.ipynb), I have created a database and designed tables to keep records of their key data. \n",
    "\n",
    "The list of tables that I have created are as follows:\n",
    "\n",
    "* A table called `Menu` that stores menu data,\n",
    "* A table called `MenuItems` that stores data on menu items,\n",
    "* A table called `Orders` that stores data on customer orders,\n",
    "* And a table called `Bookings` that stores data on customer bookings.\n",
    "\n"
   ]
  },
  {
   "cell_type": "code",
   "execution_count": 10,
   "metadata": {},
   "outputs": [],
   "source": [
    "import mysql.connector as connector"
   ]
  },
  {
   "cell_type": "code",
   "execution_count": 11,
   "metadata": {},
   "outputs": [],
   "source": [
    "# Establish connection between Python and MySQL database via connector API\n",
    "connection=connector.connect(\n",
    "                             user=\"root\", # use your own\n",
    "                             password=\"Ibraheem16@mysql\", # use your own\n",
    "                            )"
   ]
  },
  {
   "cell_type": "code",
   "execution_count": 12,
   "metadata": {},
   "outputs": [],
   "source": [
    "# Create cursor object to communicate with entire MySQL database\n",
    "cursor = connection.cursor()"
   ]
  },
  {
   "cell_type": "markdown",
   "metadata": {},
   "source": [
    "Once the connection is established, and cursor object instantiated, we can select the database `“little_lemon”` and print the names of the tables using the following code: "
   ]
  },
  {
   "cell_type": "code",
   "execution_count": 13,
   "metadata": {},
   "outputs": [
    {
     "name": "stdout",
     "output_type": "stream",
     "text": [
      "Database in use is: little_lemon\n",
      "\n",
      "The existing tables in the little_lemon database are:\n",
      "('bookings',)\n",
      "('menuitems',)\n",
      "('menus',)\n",
      "('orders',)\n"
     ]
    }
   ],
   "source": [
    "# Setting little_lemon for use \n",
    "cursor.execute(\"use little_lemon\")\n",
    "\n",
    "# Confirming\n",
    "print(\"Database in use is:\", connection.database)\n",
    "print()\n",
    "print(\"The existing tables in the little_lemon database are:\")\n",
    "cursor.execute(\"SHOW TABLES\") \n",
    "# Print table names \n",
    "for table in cursor: \n",
    "    print(table) "
   ]
  },
  {
   "cell_type": "markdown",
   "metadata": {},
   "source": [
    "## Task 1:\n",
    "\n",
    "*They now need to populate these tables with relevant data. They also need to read the data once the records have been inserted into the database.* \n",
    "\n",
    "_**I will help Little Lemon create and read data in their MySQL database using Python.**_"
   ]
  },
  {
   "cell_type": "markdown",
   "metadata": {},
   "source": [
    "**SQL queries to insert data in the tables**"
   ]
  },
  {
   "cell_type": "code",
   "execution_count": 5,
   "metadata": {},
   "outputs": [],
   "source": [
    "#*******************************************************#\n",
    "# Insert query to populate \"MenuItems\" table is:\n",
    "#*******************************************************#\n",
    "insert_menuitmes=\"\"\"\n",
    "INSERT INTO MenuItems (ItemID, Name, Type, Price)\n",
    "VALUES\n",
    "(1,'Olives','Starters',5),\n",
    "(2,'Flatbread','Starters', 5),\n",
    "(3, 'Minestrone', 'Starters', 8),\n",
    "(4, 'Tomato bread','Starters', 8),\n",
    "(5, 'Falafel', 'Starters', 7),\n",
    "(6, 'Hummus', 'Starters', 5),\n",
    "(7, 'Greek salad', 'Main Courses', 15),\n",
    "(8, 'Bean soup', 'Main Courses', 12),\n",
    "(9, 'Pizza', 'Main Courses', 15),\n",
    "(10,'Greek yoghurt','Desserts', 7),\n",
    "(11, 'Ice cream', 'Desserts', 6),\n",
    "(12, 'Cheesecake', 'Desserts', 4),\n",
    "(13, 'Athens White wine', 'Drinks', 25),\n",
    "(14, 'Corfu Red Wine', 'Drinks', 30),\n",
    "(15, 'Turkish Coffee', 'Drinks', 10),\n",
    "(16, 'Turkish Coffee', 'Drinks', 10),\n",
    "(17, 'Kabasa', 'Main Courses', 17);\"\"\"\n",
    "\n",
    "#*******************************************************#\n",
    "# Insert query to populate \"Menu\" table is:\n",
    "#*******************************************************#\n",
    "insert_menu=\"\"\"\n",
    "INSERT INTO Menus (MenuID,ItemID,Cuisine)\n",
    "VALUES\n",
    "(1, 1, 'Greek'),\n",
    "(1, 7, 'Greek'),\n",
    "(1, 10, 'Greek'),\n",
    "(1, 13, 'Greek'),\n",
    "(2, 3, 'Italian'),\n",
    "(2, 9, 'Italian'),\n",
    "(2, 12, 'Italian'),\n",
    "(2, 15, 'Italian'),\n",
    "(3, 5, 'Turkish'),\n",
    "(3, 17, 'Turkish'),\n",
    "(3, 11, 'Turkish'),\n",
    "(3, 16, 'Turkish');\"\"\"\n",
    "\n",
    "#*******************************************************#\n",
    "# Insert query to populate \"Bookings\" table is:\n",
    "#*******************************************************#\n",
    "insert_bookings=\"\"\"\n",
    "INSERT INTO Bookings (BookingID, TableNo, GuestFirstName, \n",
    "GuestLastName, BookingSlot, EmployeeID)\n",
    "VALUES\n",
    "(1,12,'Anna','Iversen','19:00:00',1),\n",
    "(2, 12, 'Joakim', 'Iversen', '19:00:00', 1),\n",
    "(3, 19, 'Vanessa', 'McCarthy', '15:00:00', 3),\n",
    "(4, 15, 'Marcos', 'Romero', '17:30:00', 4),\n",
    "(5, 5, 'Hiroki', 'Yamane', '18:30:00', 2),\n",
    "(6, 8, 'Diana', 'Pinto', '20:00:00', 5);\"\"\"\n",
    "\n",
    "#*******************************************************#\n",
    "# Insert query to populate \"Orders\" table is:\n",
    "#*******************************************************#\n",
    "insert_orders=\"\"\"\n",
    "INSERT INTO Orders (OrderID, TableNo, MenuID, BookingID, Quantity, BillAmount)\n",
    "VALUES\n",
    "(1, 12, 1, 1, 2, 86),\n",
    "(2, 19, 2, 2, 1, 37),\n",
    "(3, 15, 2, 3, 1, 37),\n",
    "(4, 5, 3, 4, 1, 40),\n",
    "(5, 8, 1, 5, 1, 43);\"\"\""
   ]
  },
  {
   "cell_type": "markdown",
   "metadata": {},
   "source": [
    "**Populating tables using python**"
   ]
  },
  {
   "cell_type": "code",
   "execution_count": 6,
   "metadata": {},
   "outputs": [
    {
     "name": "stdout",
     "output_type": "stream",
     "text": [
      "Inserting data in MenuItems table.\n",
      "Total number of rows in MenuItem table:  17\n",
      "Inserting data in Menus table.\n",
      "Total number of rows in Menu table:  12\n",
      "Inserting data in Bookings table.\n",
      "Total number of rows in Bookings table:  6\n",
      "Inserting data in Orders table.\n",
      "Total number of rows in Orders table:  5\n"
     ]
    }
   ],
   "source": [
    "print(\"Inserting data in MenuItems table.\")\n",
    "# Populate MenuItems table\n",
    "cursor.execute(insert_menuitmes)\n",
    "print(\"Total number of rows in MenuItem table: \", cursor.rowcount)\n",
    "# Once the query is executed, you commit the change into the database \n",
    "connection.commit()\n",
    "\n",
    "print(\"Inserting data in Menus table.\")\n",
    "# Populate MenuItems table\n",
    "cursor.execute(insert_menu)\n",
    "print(\"Total number of rows in Menu table: \", cursor.rowcount)\n",
    "connection.commit()\n",
    "\n",
    "print(\"Inserting data in Bookings table.\")\n",
    "# Populate Bookings table\n",
    "cursor.execute(insert_bookings)\n",
    "print(\"Total number of rows in Bookings table: \", cursor.rowcount)\n",
    "connection.commit()\n",
    "\n",
    "print(\"Inserting data in Orders table.\")\n",
    "# Populate Orders table\n",
    "cursor.execute(insert_orders)\n",
    "print(\"Total number of rows in Orders table: \", cursor.rowcount)\n",
    "connection.commit()"
   ]
  },
  {
   "cell_type": "markdown",
   "metadata": {},
   "source": [
    "## Task 2:\n",
    "\n",
    "In the first task, I created records in the empty tables. Now the restaurant requires the following data for each guest: \n",
    "\n",
    "* Guest first and last names  \n",
    "* The table number assigned to each guest.\n",
    "\n",
    "I will help Little Lemon to read this data from the “Bookings” table using Python. "
   ]
  },
  {
   "cell_type": "code",
   "execution_count": 7,
   "metadata": {},
   "outputs": [
    {
     "name": "stdout",
     "output_type": "stream",
     "text": [
      "Data in the \"Bookings\" table:\n",
      "('GuestFirstName', 'GuestLastName', 'TableNo')\n",
      "('Anna', 'Iversen', 12)\n",
      "('Joakim', 'Iversen', 12)\n",
      "('Vanessa', 'McCarthy', 19)\n",
      "('Marcos', 'Romero', 15)\n",
      "('Hiroki', 'Yamane', 5)\n",
      "('Diana', 'Pinto', 8)\n"
     ]
    }
   ],
   "source": [
    "# Read query is:\n",
    "all_bookings = \"\"\"SELECT GuestFirstName, GuestLastName, \n",
    "TableNo FROM bookings;\"\"\"\n",
    "\n",
    "# Eexecute query \n",
    "cursor.execute(all_bookings)\n",
    "\n",
    "# Fetch all results that satisfy the query \n",
    "results = cursor.fetchall()\n",
    "\n",
    "# Retrieve column names\n",
    "cols = cursor.column_names\n",
    "\n",
    "# Print column names and records from results using for loop\n",
    "print(\"\"\"Data in the \"Bookings\" table:\"\"\")\n",
    "print(cols)\n",
    "for result in results:\n",
    "    print(result)"
   ]
  },
  {
   "cell_type": "markdown",
   "metadata": {},
   "source": [
    "## Task 3:\n",
    "Little Lemon’s queries are returning large volumes of data. They need to find a way to return the data in smaller, more manageable chunks. \n",
    "\n",
    "I will help them to return just the first three items from the menu. In other words, return the first three items from the cursor. "
   ]
  },
  {
   "cell_type": "code",
   "execution_count": 8,
   "metadata": {},
   "outputs": [
    {
     "name": "stdout",
     "output_type": "stream",
     "text": [
      "Data in the \"Menu\" table:\n",
      "('MenuID', 'ItemID', 'Cuisine')\n",
      "(1, 1, 'Greek')\n",
      "(1, 7, 'Greek')\n",
      "(1, 10, 'Greek')\n"
     ]
    }
   ],
   "source": [
    "# Query to retrieve all bookings is: \n",
    "all_menus = \"\"\"SELECT * FROM Menus;\"\"\"\n",
    "\n",
    "# Execute query \n",
    "cursor.execute(all_menus)\n",
    "\n",
    "# Fetch fist 3 records in results\n",
    "results = cursor.fetchmany(size=3)\n",
    "\n",
    "# Retrieve column names\n",
    "cols = cursor.column_names\n",
    "\n",
    "# Print column names and records from results using for loop\n",
    "print(\"\"\"Data in the \"Menu\" table:\"\"\")\n",
    "print(cols)\n",
    "for result in results:\n",
    "    print(result)"
   ]
  },
  {
   "cell_type": "markdown",
   "metadata": {},
   "source": [
    "After grabbing first three records, the cursor will be at the fourth record and we can call `fetchall()` to grab them."
   ]
  },
  {
   "cell_type": "code",
   "execution_count": 9,
   "metadata": {},
   "outputs": [
    {
     "name": "stdout",
     "output_type": "stream",
     "text": [
      "(1, 13, 'Greek')\n",
      "(2, 3, 'Italian')\n",
      "(2, 9, 'Italian')\n",
      "(2, 12, 'Italian')\n",
      "(2, 15, 'Italian')\n",
      "(3, 5, 'Turkish')\n",
      "(3, 11, 'Turkish')\n",
      "(3, 16, 'Turkish')\n",
      "(3, 17, 'Turkish')\n"
     ]
    }
   ],
   "source": [
    "# Remaining records after fetching the first three\n",
    "results= cursor.fetchall()\n",
    "for result in results:\n",
    "    print(result)"
   ]
  },
  {
   "cell_type": "markdown",
   "metadata": {},
   "source": [
    "**Options 2:**\n",
    "\n",
    "This task can also be accomplished by setting `LIMIT 3` in the `SQL` query."
   ]
  },
  {
   "cell_type": "code",
   "execution_count": 10,
   "metadata": {},
   "outputs": [
    {
     "name": "stdout",
     "output_type": "stream",
     "text": [
      "Data in the \"Menu\" table:\n",
      "('MenuID', 'ItemID', 'Cuisine')\n",
      "(1, 1, 'Greek')\n",
      "(1, 7, 'Greek')\n",
      "(1, 10, 'Greek')\n"
     ]
    }
   ],
   "source": [
    "# Query to retrieve only first three records from the bookings table is:\n",
    "all_menus = \"\"\"SELECT * FROM Menus LIMIT 3;\"\"\"\n",
    "\n",
    "# Execute query \n",
    "cursor.execute(all_menus)\n",
    "\n",
    "# Fetch fist 3 records in results\n",
    "results = cursor.fetchall()   \n",
    "\n",
    "# Retrieve column names\n",
    "cols = cursor.column_names\n",
    "\n",
    "# Print column names and records from results using for loop\n",
    "print(\"\"\"Data in the \"Menu\" table:\"\"\")\n",
    "print(cols)\n",
    "for result in results:\n",
    "    print(result)"
   ]
  },
  {
   "cell_type": "markdown",
   "metadata": {},
   "source": [
    "## Task 4:\n",
    "\n",
    "The guest Diana Pinto booked a table for two. \n",
    "\n",
    "She was assigned a Booking ID of 6 and the table number 8. However, she just rang Little Lemon to request a change to her booking. \n",
    "\n",
    "She now needs a table for four guests."
   ]
  },
  {
   "cell_type": "code",
   "execution_count": 17,
   "metadata": {},
   "outputs": [
    {
     "name": "stdout",
     "output_type": "stream",
     "text": [
      "Updating Diana's data in Bookings table.\n"
     ]
    }
   ],
   "source": [
    "# The update query is:\n",
    "update_diana = \"\"\"\n",
    "UPDATE Bookings\n",
    "SET TableNo = 10\n",
    "WHERE BookingID = 6\n",
    "\"\"\"\n",
    "# Execute the query to update the table\n",
    "print(\"Updating Diana's data in Bookings table.\")\n",
    "cursor.execute(update_diana)\n",
    "\n",
    "connection.commit()"
   ]
  },
  {
   "cell_type": "code",
   "execution_count": 18,
   "metadata": {},
   "outputs": [
    {
     "name": "stdout",
     "output_type": "stream",
     "text": [
      "('BookingID', 'TableNo', 'GuestFirstName', 'GuestLastName', 'BookingSlot', 'EmployeeID')\n",
      "(1, 12, 'Anna', 'Iversen', datetime.timedelta(seconds=68400), 1)\n",
      "(2, 12, 'Joakim', 'Iversen', datetime.timedelta(seconds=68400), 1)\n",
      "(3, 19, 'Vanessa', 'McCarthy', datetime.timedelta(seconds=54000), 3)\n",
      "(4, 15, 'Marcos', 'Romero', datetime.timedelta(seconds=63000), 4)\n",
      "(5, 5, 'Hiroki', 'Yamane', datetime.timedelta(seconds=66600), 2)\n",
      "(6, 10, 'Diana', 'Pinto', datetime.timedelta(seconds=72000), 5)\n"
     ]
    }
   ],
   "source": [
    "data = \"SELECT * FROM Bookings;\"\n",
    "cursor.execute(data)\n",
    "updated_data = cursor.fetchall()\n",
    "\n",
    "cols = cursor.column_names\n",
    "print(cols)\n",
    "\n",
    "for line in updated_data:\n",
    "    print(line)"
   ]
  },
  {
   "cell_type": "markdown",
   "metadata": {},
   "source": [
    "## Task 5: \n",
    "\n",
    "Little Lemon has encountered a conflict with two bookings. To resolve the conflict, I need to update the record for the guest Joakim Iversen, who has a Booking ID of 2.  \n",
    "\n",
    "Update Joakim’s booking in the MySQL database using Python as follows: \n",
    "\n",
    "* Change the guest’s table number to 11 \n",
    "* Change the `EmployeeID` of the guest’s waiter to 6 "
   ]
  },
  {
   "cell_type": "code",
   "execution_count": 19,
   "metadata": {},
   "outputs": [
    {
     "name": "stdout",
     "output_type": "stream",
     "text": [
      "Executing update query\n",
      "Comitting change to the table\n",
      "Record is updated in the table\n"
     ]
    }
   ],
   "source": [
    "# The update query is:\n",
    "update_bookings=\"\"\"UPDATE Bookings\n",
    "SET TableNo=11, EmployeeID=6\n",
    "WHERE BookingID = 2;\"\"\"\n",
    "\n",
    "# Execute the query to update the table\n",
    "print(\"Executing update query\")\n",
    "cursor.execute(update_bookings)\n",
    "\n",
    "# Commit change \n",
    "print(\"Comitting change to the table\")\n",
    "connection.commit()\n",
    "print(\"Record is updated in the table\")"
   ]
  },
  {
   "cell_type": "markdown",
   "metadata": {},
   "source": [
    "The above code updates the records in the “Bookings” table. The print statements are added to track the process. "
   ]
  },
  {
   "cell_type": "code",
   "execution_count": 20,
   "metadata": {},
   "outputs": [
    {
     "name": "stdout",
     "output_type": "stream",
     "text": [
      "Data in the 'Bookings' table\n",
      "('BookingID', 'TableNo', 'GuestFirstName', 'GuestLastName', 'BookingSlot', 'EmployeeID')\n",
      "(1, 12, 'Anna', 'Iversen', datetime.timedelta(seconds=68400), 1)\n",
      "(2, 11, 'Joakim', 'Iversen', datetime.timedelta(seconds=68400), 6)\n",
      "(3, 19, 'Vanessa', 'McCarthy', datetime.timedelta(seconds=54000), 3)\n",
      "(4, 15, 'Marcos', 'Romero', datetime.timedelta(seconds=63000), 4)\n",
      "(5, 5, 'Hiroki', 'Yamane', datetime.timedelta(seconds=66600), 2)\n",
      "(6, 10, 'Diana', 'Pinto', datetime.timedelta(seconds=72000), 5)\n"
     ]
    }
   ],
   "source": [
    "# The query to retrieve all bookings is: \n",
    "all_bookings = \"\"\"SELECT * FROM Bookings;\"\"\"\n",
    "\n",
    "# Execute query \n",
    "cursor.execute(all_bookings)\n",
    "\n",
    "# Fetch all results that satisfy the query \n",
    "results = cursor.fetchall()\n",
    "\n",
    "# Retrieve column names\n",
    "cols = cursor.column_names\n",
    "\n",
    "# Print column names and records from results using for loop\n",
    "print(\"Data in the 'Bookings' table\")\n",
    "print(cols)\n",
    "for result in results:  \n",
    "    print(result)"
   ]
  },
  {
   "cell_type": "markdown",
   "metadata": {},
   "source": [
    "## Task 6: \n",
    "\n",
    "Little Lemon restaurant didn’t receive their regular supply of ingredients today. This means that they can’t provide any Greek cuisine for their guests. \n",
    "\n",
    "They need to delete all Greek cuisine from their menu until the supply of ingredients is restored. "
   ]
  },
  {
   "cell_type": "code",
   "execution_count": 21,
   "metadata": {},
   "outputs": [
    {
     "name": "stdout",
     "output_type": "stream",
     "text": [
      "Executing 'DELETE' query\n",
      "Comitting change to the table\n",
      "The table is updated after deletion of the requested records\n"
     ]
    }
   ],
   "source": [
    "# The SQL query is:\n",
    "delete_query_greek=\"\"\"DELETE FROM Menus WHERE Cuisine = 'Greek'\"\"\"\n",
    "\n",
    "# Execute the query\n",
    "print(\"Executing 'DELETE' query\")\n",
    "cursor.execute(delete_query_greek)\n",
    "\n",
    "# Commit change \n",
    "print(\"Comitting change to the table\")\n",
    "connection.commit()\n",
    "print(\"The table is updated after deletion of the requested records\")"
   ]
  },
  {
   "cell_type": "markdown",
   "metadata": {},
   "source": [
    "Once, the required records are deleted using the above code, you can run the code below to confirm and print the updated \"Menus\" table."
   ]
  },
  {
   "cell_type": "code",
   "execution_count": 22,
   "metadata": {},
   "outputs": [
    {
     "name": "stdout",
     "output_type": "stream",
     "text": [
      "Data in the \"Menu\" table:\n",
      "('MenuID', 'ItemID', 'Cuisine')\n",
      "(2, 3, 'Italian')\n",
      "(2, 9, 'Italian')\n",
      "(2, 12, 'Italian')\n",
      "(2, 15, 'Italian')\n",
      "(3, 5, 'Turkish')\n",
      "(3, 11, 'Turkish')\n",
      "(3, 16, 'Turkish')\n",
      "(3, 17, 'Turkish')\n"
     ]
    }
   ],
   "source": [
    "# The query to retrieve records from Menus table is: \n",
    "all_menus = \"\"\"SELECT * FROM Menus;\"\"\"\n",
    "\n",
    "# Execute query \n",
    "cursor.execute(all_menus)\n",
    "\n",
    "# Fetch all results that satisfy the query \n",
    "results = cursor.fetchall()\n",
    "\n",
    "# Retrieve column names\n",
    "cols = cursor.column_names\n",
    "\n",
    "# Print column names and records from results using for loop\n",
    "print(\"\"\"Data in the \"Menu\" table:\"\"\")\n",
    "print(cols)\n",
    "for result in results:\n",
    "    print(result)"
   ]
  },
  {
   "cell_type": "markdown",
   "metadata": {},
   "source": [
    "#### Additional on deleting all the records holding NULL values in a certain column in the Bookings table."
   ]
  },
  {
   "cell_type": "code",
   "execution_count": 23,
   "metadata": {},
   "outputs": [],
   "source": [
    "delete_query_null=\"\"\"DELETE FROM Bookings WHERE TableNo IS NULL;\"\"\"\n",
    "cursor.execute(delete_query_null)\n",
    "\n",
    "connection.commit()"
   ]
  },
  {
   "cell_type": "markdown",
   "metadata": {},
   "source": [
    "## Task 7: \n",
    "\n",
    "Little Lemon need to know how many bookings they have today for table number 12. They also need to know the names of the guests booked for table 12 and who their servers are. "
   ]
  },
  {
   "cell_type": "code",
   "execution_count": 30,
   "metadata": {},
   "outputs": [
    {
     "name": "stdout",
     "output_type": "stream",
     "text": [
      "('TableNo', 'GuestFirstName', 'GuestLastName', 'EmployeeID')\n",
      "(12, 'Anna', 'Iversen', 1)\n",
      "(12, 'Joakim', 'Iversen', 6)\n"
     ]
    }
   ],
   "source": [
    "# Add your code here\n",
    "select_stmt = \"\"\"\n",
    "SELECT TableNo, GuestFirstName, GuestLastName, EmployeeID\n",
    "FROM Bookings\n",
    "WHERE TableNo = 12;\n",
    "\"\"\"\n",
    "cursor.execute(select_stmt)\n",
    "results = cursor.fetchall()\n",
    "cols = cursor.column_names\n",
    "\n",
    "print(cols)\n",
    "\n",
    "for line in results:\n",
    "    print(line)"
   ]
  },
  {
   "cell_type": "markdown",
   "metadata": {},
   "source": [
    "## Task 8: \n",
    "\n",
    "Little lemon wants to send a coupon to all guests who spent more than $40 at the restaurant today.  \n",
    "\n",
    "I will help little lemon to filter and sort the records of all quests who qualify for coupon."
   ]
  },
  {
   "cell_type": "code",
   "execution_count": 31,
   "metadata": {},
   "outputs": [
    {
     "name": "stdout",
     "output_type": "stream",
     "text": [
      "('BookingID', 'BillAmount')\n",
      "(1, 86)\n",
      "(5, 43)\n"
     ]
    }
   ],
   "source": [
    "# Add your code here\n",
    "filtering_and_sorting = \"\"\"\n",
    "SELECT BookingID, BillAmount FROM Orders\n",
    "WHERE BillAmount>40 ORDER BY BillAmount DESC;\n",
    "\"\"\"\n",
    "cursor.execute(filtering_and_sorting)\n",
    "result = cursor.fetchall()\n",
    "cols = cursor.column_names\n",
    "print(cols)\n",
    "for row in result:\n",
    "    print(row)"
   ]
  },
  {
   "cell_type": "markdown",
   "metadata": {},
   "source": [
    "## Task 9: \n",
    "\n",
    "Little lemon needs to determine what the most and least expensive starters and desserts on their menu items are. "
   ]
  },
  {
   "cell_type": "code",
   "execution_count": 32,
   "metadata": {},
   "outputs": [
    {
     "name": "stdout",
     "output_type": "stream",
     "text": [
      "('ItemID', 'Name', 'Type', 'Price')\n",
      "(3, 'Minestrone', 'Starters', 8)\n",
      "(4, 'Tomato bread', 'Starters', 8)\n",
      "(5, 'Falafel', 'Starters', 7)\n",
      "(10, 'Greek yoghurt', 'Desserts', 7)\n",
      "(11, 'Ice cream', 'Desserts', 6)\n",
      "(1, 'Olives', 'Starters', 5)\n",
      "(2, 'Flatbread', 'Starters', 5)\n",
      "(6, 'Hummus', 'Starters', 5)\n",
      "(12, 'Cheesecake', 'Desserts', 4)\n"
     ]
    }
   ],
   "source": [
    "# Add your code here\n",
    "filtering_data = \"\"\"\n",
    "SELECT * FROM MenuItems where Type = 'Starters' OR Type = 'Desserts'\n",
    "ORDER BY Price DESC;\n",
    "\"\"\"\n",
    "cursor.execute(filtering_data)\n",
    "result = cursor.fetchall()\n",
    "cols = cursor.column_names\n",
    "print(cols)\n",
    "for row in result:\n",
    "    print(row)\n"
   ]
  },
  {
   "cell_type": "markdown",
   "metadata": {},
   "source": [
    "## Task 10\n",
    "Little Lemon needs to carry out the following tasks with their datasets and extract the result into their python application: \n",
    "\n",
    "* Determine the final bill amount for each customer who attended the restaurant today \n",
    "* Identify the type of cuisine that each item in their menu belongs to. \n"
   ]
  },
  {
   "cell_type": "code",
   "execution_count": 38,
   "metadata": {},
   "outputs": [
    {
     "name": "stdout",
     "output_type": "stream",
     "text": [
      "('Item_Name', 'Item_Type', 'Cuisine', 'Price')\n",
      "('Minestrone', 'Starters', 'Italian', 8)\n",
      "('Pizza', 'Main Courses', 'Italian', 15)\n",
      "('Cheesecake', 'Desserts', 'Italian', 4)\n",
      "('Turkish Coffee', 'Drinks', 'Italian', 10)\n",
      "('Falafel', 'Starters', 'Turkish', 7)\n",
      "('Ice cream', 'Desserts', 'Turkish', 6)\n",
      "('Turkish Coffee', 'Drinks', 'Turkish', 10)\n",
      "('Kabasa', 'Main Courses', 'Turkish', 17)\n"
     ]
    }
   ],
   "source": [
    "# The SQL query is:\n",
    "join_query=\"\"\"SELECT \n",
    "MenuItems.Name AS Item_Name, \n",
    "MenuItems.Type AS Item_Type, \n",
    "Menus.Cuisine AS Cuisine, \n",
    "MenuItems.Price AS Price \n",
    "FROM MenuItems \n",
    "INNER JOIN Menus ON MenuItems.ItemID=Menus.ItemID;\"\"\"\n",
    "\n",
    "# Execute query\n",
    "cursor.execute(join_query)\n",
    "\n",
    "# Fetch records \n",
    "results = cursor.fetchall()\n",
    "\n",
    "# Retrieve column names\n",
    "columns = cursor.column_names\n",
    "\n",
    "# Print column names\n",
    "print(columns)\n",
    "\n",
    "# Print query results\n",
    "for result in results:\n",
    "    print(result)   "
   ]
  },
  {
   "cell_type": "markdown",
   "metadata": {},
   "source": [
    "Little Lemon notice that there are several menu items missing from the output of the previous task. \n",
    "\n",
    "I will help Little Lemon to identify these missing items by using a `JOIN` operation in Python to return data for the missing records."
   ]
  },
  {
   "cell_type": "code",
   "execution_count": 39,
   "metadata": {},
   "outputs": [
    {
     "name": "stdout",
     "output_type": "stream",
     "text": [
      "('Item_Name', 'Item_Type', 'Cuisine', 'Price')\n",
      "('Olives', 'Starters', None, 5)\n",
      "('Flatbread', 'Starters', None, 5)\n",
      "('Tomato bread', 'Starters', None, 8)\n",
      "('Hummus', 'Starters', None, 5)\n",
      "('Greek salad', 'Main Courses', None, 15)\n",
      "('Bean soup', 'Main Courses', None, 12)\n",
      "('Greek yoghurt', 'Desserts', None, 7)\n",
      "('Athens White wine', 'Drinks', None, 25)\n",
      "('Corfu Red Wine', 'Drinks', None, 30)\n"
     ]
    }
   ],
   "source": [
    "# Good to specify column from the table\n",
    "# Try left, right, inner\n",
    "\n",
    "# The SQL query is:\n",
    "join_query=\"\"\"SELECT \n",
    "MenuItems.Name AS Item_Name, \n",
    "MenuItems.Type AS Item_Type, \n",
    "Menus.Cuisine AS Cuisine, \n",
    "MenuItems.Price AS Price \n",
    "FROM MenuItems \n",
    "LEFT JOIN Menus ON MenuItems.ItemID=Menus.ItemID\n",
    "WHERE Cuisine IS NULL;\"\"\"\n",
    "\n",
    "# Execute query\n",
    "cursor.execute(join_query)\n",
    "\n",
    "# Fetch records \n",
    "results = cursor.fetchall()\n",
    "\n",
    "# Retrieve column names\n",
    "columns = cursor.column_names\n",
    "\n",
    "# Print column names\n",
    "print(columns)\n",
    "\n",
    "# Print query results\n",
    "for result in results:\n",
    "    print(result)    "
   ]
  },
  {
   "cell_type": "markdown",
   "metadata": {},
   "source": [
    "Little Lemon restaurant need you to help them retrieve the following information from the `Bookings` and the `Orders` tables in their MySQL database using Python: \n",
    "\n",
    "* Booking ID \n",
    "* Table number \n",
    "* Guest first name \n",
    "* Server ID \n",
    "* Bill amount "
   ]
  },
  {
   "cell_type": "code",
   "execution_count": 40,
   "metadata": {},
   "outputs": [
    {
     "name": "stdout",
     "output_type": "stream",
     "text": [
      "('BookingID', 'TableNo', 'GuestFirstName', 'ServerID', 'BillAmount')\n",
      "(1, 12, 'Anna', 1, 86)\n",
      "(2, 12, 'Joakim', 6, 37)\n",
      "(3, 19, 'Vanessa', 3, 37)\n",
      "(4, 15, 'Marcos', 4, 40)\n",
      "(5, 5, 'Hiroki', 2, 43)\n",
      "(6, 10, 'Diana', 5, None)\n"
     ]
    }
   ],
   "source": [
    "\n",
    "# The SQL query is:\n",
    "join_query=\"\"\"SELECT \n",
    "Bookings.BookingID,\n",
    "Bookings.TableNo,\n",
    "Bookings.GuestFirstName,\n",
    "Bookings.EmployeeID AS ServerID,\n",
    "Orders.BillAmount\n",
    "FROM Bookings\n",
    "LEFT JOIN Orders ON Bookings.BookingID = Orders.BookingID;\n",
    "\"\"\"\n",
    "\n",
    "# Execute query\n",
    "cursor.execute(join_query)\n",
    "\n",
    "# Fetch records \n",
    "results = cursor.fetchall()\n",
    "\n",
    "# Retrieve column names\n",
    "columns = cursor.column_names\n",
    "\n",
    "# Print column names\n",
    "print(columns)\n",
    "\n",
    "# Print query results\n",
    "for result in results:\n",
    "    print(result)    \n"
   ]
  },
  {
   "cell_type": "markdown",
   "metadata": {},
   "source": [
    "## Task 11\n",
    "Along with the booking ID, little lemon needs to add the full name of the guests in upper case on their invoices. Let's help little lemon to extract the data in the required format."
   ]
  },
  {
   "cell_type": "code",
   "execution_count": 5,
   "metadata": {},
   "outputs": [
    {
     "name": "stdout",
     "output_type": "stream",
     "text": [
      "('ID', 'GuestFullName')\n",
      "\n",
      "(1, 'ANNA IVERSEN')\n",
      "(2, 'JOAKIM IVERSEN')\n",
      "(3, 'VANESSA MCCARTHY')\n",
      "(4, 'MARCOS ROMERO')\n",
      "(5, 'HIROKI YAMANE')\n",
      "(6, 'DIANA PINTO')\n"
     ]
    }
   ],
   "source": [
    "# The SQL query is:\n",
    "sql_query=\"\"\"\n",
    "SELECT \n",
    "BookingID AS ID,\n",
    "UPPER(CONCAT(GuestFirstName,' ',GuestLastName)) \n",
    "AS GuestFullName \n",
    "FROM bookings;\"\"\"\n",
    "\n",
    "# Execute query\n",
    "cursor.execute(sql_query)\n",
    "\n",
    "# Fetch records \n",
    "results = cursor.fetchall()\n",
    "\n",
    "# Retrieve column names\n",
    "columns = cursor.column_names\n",
    "\n",
    "# Print column names\n",
    "print(columns)\n",
    "\n",
    "# Just add an empty line using print statement\n",
    "print()\n",
    "\n",
    "# Print query results\n",
    "for result in results:\n",
    "    print(result)  "
   ]
  },
  {
   "cell_type": "markdown",
   "metadata": {},
   "source": [
    "## Task 12:\n",
    "\n",
    "Little lemon needs to know the following statistics at closing: \n",
    "\n",
    "* Number of bookings \n",
    "* Total sale \n",
    "* Average sale \n",
    "\n",
    "I will help little lemon to compute the required statistics from the data in the “Orders” table ."
   ]
  },
  {
   "cell_type": "code",
   "execution_count": 6,
   "metadata": {},
   "outputs": [
    {
     "name": "stdout",
     "output_type": "stream",
     "text": [
      "Today's statistics:\n",
      "Number of bookings: 5\n",
      "Total sale: 243\n",
      "Average sale: 48.6000\n"
     ]
    }
   ],
   "source": [
    "# The SQL query is:\n",
    "sql_query=\"\"\"\n",
    "SELECT \n",
    "COUNT(BookingID) AS n_bookings,\n",
    "SUM(BillAmount) AS Total_sale,\n",
    "AVG(BillAmount) AS Avg_sale\n",
    "FROM Orders;\"\"\"\n",
    "\n",
    "# Execute query\n",
    "cursor.execute(sql_query)\n",
    "\n",
    "# Fetch records\n",
    "results=cursor.fetchall()\n",
    "\n",
    "# Print results\n",
    "print(\"Today's statistics:\")\n",
    "for result in results:\n",
    "    print(\"Number of bookings:\",result[0])\n",
    "    print(\"Total sale:\",result[1])\n",
    "    print(\"Average sale:\",result[2])"
   ]
  },
  {
   "cell_type": "markdown",
   "metadata": {},
   "source": [
    "Little lemon needs to know the number of bookings for each table. Let's help them to print the table number and the number of bookings for each table. "
   ]
  },
  {
   "cell_type": "code",
   "execution_count": 7,
   "metadata": {},
   "outputs": [
    {
     "name": "stdout",
     "output_type": "stream",
     "text": [
      "('Table number', 'n_booking')\n",
      "(12, 2)\n",
      "(19, 1)\n",
      "(15, 1)\n",
      "(5, 1)\n",
      "(10, 1)\n"
     ]
    }
   ],
   "source": [
    "# The SQL query is:\n",
    "sql_query=\"\"\"SELECT \n",
    "TableNo AS 'Table number', \n",
    "COUNT(TableNo) AS n_booking\n",
    "FROM Bookings \n",
    "GROUP BY TableNo \n",
    "ORDER BY n_booking DESC;\"\"\"\n",
    "\n",
    "# Execute query\n",
    "cursor.execute(sql_query)\n",
    "\n",
    "# Fetch records \n",
    "results = cursor.fetchall()\n",
    "\n",
    "# Retrieve column names\n",
    "columns = cursor.column_names\n",
    "\n",
    "# Print column names\n",
    "print(columns)\n",
    "\n",
    "# Print query results\n",
    "for result in results:\n",
    "    print(result)"
   ]
  },
  {
   "cell_type": "markdown",
   "metadata": {},
   "source": [
    "## Task 13:\n",
    "\n",
    "Little lemon wants to create three arrival slots for the guests based on the booking hour: \n",
    "\n",
    "* Late afternoon: for hours 15 and 16  \n",
    "* Evening: for hours 17 and 18 \n",
    "* Night: for hours 19 and 20 \n",
    "\n",
    "I will help little lemon to create the above slots and display the booking ID, guest name, and arrival slot on the kitchen screen so that the staff can plan accordingly. "
   ]
  },
  {
   "cell_type": "code",
   "execution_count": 8,
   "metadata": {},
   "outputs": [
    {
     "name": "stdout",
     "output_type": "stream",
     "text": [
      "('BookingID', 'Guest_Name', 'Arrival_slot')\n",
      "(1, 'Anna Iversen', 'Night')\n",
      "(2, 'Joakim Iversen', 'Night')\n",
      "(3, 'Vanessa McCarthy', 'Late afternoon')\n",
      "(4, 'Marcos Romero', 'Evening')\n",
      "(5, 'Hiroki Yamane', 'Evening')\n",
      "(6, 'Diana Pinto', 'Night')\n"
     ]
    }
   ],
   "source": [
    "\n",
    "# The SQL query is:\n",
    "sql_query=\"\"\"\n",
    "SELECT\n",
    "BookingID,\n",
    "CONCAT(GuestFirstName,' ',GuestLastName) AS Guest_Name,\n",
    "\n",
    "CASE\n",
    "WHEN HOUR(BookingSlot) IN (15,16) THEN \"Late afternoon\" \n",
    "WHEN HOUR(BookingSlot) IN (17,18) THEN \"Evening\" \n",
    "WHEN HOUR(BookingSlot) IN (19,20) THEN \"Night\"\n",
    "ELSE \"Time not available\" \n",
    "END AS Arrival_slot\n",
    "\n",
    "FROM Bookings;\"\"\"\n",
    "\n",
    "# Execute query\n",
    "cursor.execute(sql_query)\n",
    "\n",
    "# Fetch records \n",
    "results = cursor.fetchall()\n",
    "\n",
    "# Retrieve column names\n",
    "columns = cursor.column_names\n",
    "\n",
    "# Print column names\n",
    "print(columns)\n",
    "\n",
    "# Print query results\n",
    "for result in results:\n",
    "    print(result)"
   ]
  },
  {
   "cell_type": "markdown",
   "metadata": {},
   "source": [
    "## Task 14\n",
    "Little Lemon wants to retrieve the number of bookings in each hour so that they can schedule the staff duties accordingly.\n"
   ]
  },
  {
   "cell_type": "code",
   "execution_count": 14,
   "metadata": {},
   "outputs": [
    {
     "name": "stdout",
     "output_type": "stream",
     "text": [
      "Upcoming Bookings:\n",
      "\n",
      "Hour:  15 <<>> 1 Booking/s\n",
      "Hour:  17 <<>> 1 Booking/s\n",
      "Hour:  18 <<>> 1 Booking/s\n",
      "Hour:  19 <<>> 2 Booking/s\n",
      "Hour:  20 <<>> 1 Booking/s\n"
     ]
    }
   ],
   "source": [
    "# The SQL query is:\n",
    "sql_query = \"\"\"SELECT \n",
    "COUNT(BookingID) AS n_bookings,\n",
    "HOUR(BookingSlot) AS Hour \n",
    "FROM Bookings\n",
    "GROUP BY Hour\n",
    "ORDER BY Hour ASC;\"\"\"\n",
    "\n",
    "# Execute the query \n",
    "cursor.execute(sql_query)\n",
    "\n",
    "# Fetch all results that satisfy the query \n",
    "results = cursor.fetchall()\n",
    "\n",
    "# Print records in the required format using for loop\n",
    "print(\"\"\"Upcoming Bookings:\\n\"\"\")\n",
    "#print(cols)\n",
    "for result in results:\n",
    "    print(\"Hour: \",result[1],\"<<>>\", result[0], \"Booking/s\")"
   ]
  },
  {
   "cell_type": "markdown",
   "metadata": {},
   "source": [
    "## Task 15\n",
    "\n",
    "Little Lemon needs to display the following information in the staff’s room: \n",
    "\n",
    "* Table number \n",
    "* Guest’s full name \n",
    "* Arrival time in hours and minutes (e.g., 15 hours and 0 mins) "
   ]
  },
  {
   "cell_type": "code",
   "execution_count": 15,
   "metadata": {},
   "outputs": [
    {
     "name": "stdout",
     "output_type": "stream",
     "text": [
      "The guests and their booking slots are:\n",
      "\n",
      "[Table no:] 19 >> Vanessa McCarthy is expected to arrive at: 15 hrs and 0 mins\n",
      "[Table no:] 15 >> Marcos Romero is expected to arrive at: 17 hrs and 30 mins\n",
      "[Table no:] 5 >> Hiroki Yamane is expected to arrive at: 18 hrs and 30 mins\n",
      "[Table no:] 12 >> Anna Iversen is expected to arrive at: 19 hrs and 0 mins\n",
      "[Table no:] 12 >> Joakim Iversen is expected to arrive at: 19 hrs and 0 mins\n",
      "[Table no:] 10 >> Diana Pinto is expected to arrive at: 20 hrs and 0 mins\n"
     ]
    }
   ],
   "source": [
    "import datetime as dt\n",
    "\n",
    "# The SQL query is: \n",
    "sql_query = \"\"\"SELECT \n",
    "TableNo, \n",
    "GuestFirstName, \n",
    "GuestLastName, \n",
    "BookingSlot \n",
    "FROM Bookings \n",
    "ORDER BY BookingSlot;\"\"\"\n",
    "\n",
    "# Execute query \n",
    "cursor.execute(sql_query)\n",
    "\n",
    "# Fetch all results that satisfy the query \n",
    "results = cursor.fetchall()\n",
    "\n",
    "# Print records in the required format\n",
    "print(\"The guests and their booking slots are:\\n\")\n",
    "for result in results: \n",
    "    time = str(result[3])\n",
    "    hour = dt.datetime.strptime(time,'%H:%M:%S').hour\n",
    "    minute = dt.datetime.strptime(time,'%H:%M:%S').minute\n",
    "    print(\"[Table no:]\",result[0],\">>\",result[1],result[2], \"is expected to arrive at:\", \n",
    "          hour,\"hrs and\", minute, \"mins\")"
   ]
  },
  {
   "cell_type": "markdown",
   "metadata": {},
   "source": [
    "## Task 16\n",
    "\n",
    "A guest with booking ID 2 and table number 12 wants to change the arrival time by one hour."
   ]
  },
  {
   "cell_type": "code",
   "execution_count": 16,
   "metadata": {},
   "outputs": [
    {
     "name": "stdout",
     "output_type": "stream",
     "text": [
      "Booking time change ALERT!!\n",
      "Booking ID: 2\n",
      "Table number: 12\n",
      "Booked slot: 19:00:00\n",
      "New arrival time: 20:00:00\n"
     ]
    }
   ],
   "source": [
    "\n",
    "\"\"\"UPDATE Bookings \n",
    "SET BookingSlot=ADDTIME(BookingSlot,\"1:00:00\") \n",
    "WHERE BookingID=2;\"\"\"\n",
    "\n",
    "# The SQL query is: \n",
    "sql_query = \"\"\"SELECT \n",
    "BookingID, \n",
    "TableNo, \n",
    "BookingSlot, \n",
    "ADDTIME(BookingSlot,\"1:00:00\") as NewTime \n",
    "FROM Bookings\n",
    "WHERE TableNo = 12 AND BookingID = 2;\"\"\"\n",
    "\n",
    "# Execute query \n",
    "cursor.execute(sql_query)\n",
    "\n",
    "# Fetch all results that satisfy the query \n",
    "results = cursor.fetchall()\n",
    "\n",
    "# Print time change alert.\n",
    "print(\"Booking time change ALERT!!\")\n",
    "for result in results:  \n",
    "    print(\"Booking ID:\",result[0])\n",
    "    print(\"Table number:\",result[1])\n",
    "    print(\"Booked slot:\",result[2])\n",
    "    print(\"New arrival time:\",result[3])"
   ]
  },
  {
   "cell_type": "code",
   "execution_count": 17,
   "metadata": {},
   "outputs": [
    {
     "name": "stdout",
     "output_type": "stream",
     "text": [
      "The cursor is closed.\n",
      "MySQL connection is closed.\n"
     ]
    }
   ],
   "source": [
    "# Let's close the cursor and the connection\n",
    "if connection.is_connected():\n",
    "    cursor.close()\n",
    "    print(\"The cursor is closed.\")\n",
    "    connection.close()\n",
    "    print(\"MySQL connection is closed.\")\n",
    "else:\n",
    "    print(\"Connection is already closed\")"
   ]
  }
 ],
 "metadata": {
  "kernelspec": {
   "display_name": "Python 3",
   "language": "python",
   "name": "python3"
  },
  "language_info": {
   "codemirror_mode": {
    "name": "ipython",
    "version": 3
   },
   "file_extension": ".py",
   "mimetype": "text/x-python",
   "name": "python",
   "nbconvert_exporter": "python",
   "pygments_lexer": "ipython3",
   "version": "3.11.6"
  }
 },
 "nbformat": 4,
 "nbformat_minor": 4
}
